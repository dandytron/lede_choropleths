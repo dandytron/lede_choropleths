{
 "cells": [
  {
   "cell_type": "code",
   "execution_count": 2,
   "id": "24917334-271c-4297-8b8b-23cf3055125e",
   "metadata": {},
   "outputs": [],
   "source": [
    "!pip install --quiet pandas geopandas shapely"
   ]
  },
  {
   "cell_type": "code",
   "execution_count": null,
   "id": "0eab9c31-e83f-48a0-a99a-438c2cd5398e",
   "metadata": {},
   "outputs": [],
   "source": [
    "import pandas as pd\n",
    "import geopandas as gpd\n",
    "from shapely"
   ]
  }
 ],
 "metadata": {
  "kernelspec": {
   "display_name": "Python 3 (ipykernel)",
   "language": "python",
   "name": "python3"
  },
  "language_info": {
   "codemirror_mode": {
    "name": "ipython",
    "version": 3
   },
   "file_extension": ".py",
   "mimetype": "text/x-python",
   "name": "python",
   "nbconvert_exporter": "python",
   "pygments_lexer": "ipython3",
   "version": "3.13.3"
  }
 },
 "nbformat": 4,
 "nbformat_minor": 5
}
